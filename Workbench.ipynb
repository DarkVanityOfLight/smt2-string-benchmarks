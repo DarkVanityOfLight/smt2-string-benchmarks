{
 "cells": [
  {
   "cell_type": "code",
   "execution_count": null,
   "id": "b5874811-a1a9-4790-9280-8fca4ca9eff2",
   "metadata": {},
   "outputs": [],
   "source": [
    "import pandas as pd\n",
    "import matplotlib as mpl\n",
    "import matplotlib.pyplot as plt\n",
    "import seaborn as sns"
   ]
  },
  {
   "cell_type": "code",
   "execution_count": null,
   "id": "cbae4256-186d-421d-b39d-1f30bd52d07c",
   "metadata": {},
   "outputs": [],
   "source": [
    "import visualizer\n",
    "import tag_util\n",
    "import dataparser"
   ]
  },
  {
   "cell_type": "code",
   "execution_count": null,
   "id": "66121ba3-f19a-4353-b388-f36d9e46fb49",
   "metadata": {},
   "outputs": [],
   "source": [
    "DF = pd.read_csv(\"ALL_PARSED.csv\")\n",
    "DF = dataparser.clean_df(DF, 3, False)"
   ]
  },
  {
   "cell_type": "code",
   "execution_count": null,
   "id": "95ed29c7-97b8-4f08-a1c6-624cfdea7422",
   "metadata": {},
   "outputs": [],
   "source": [
    "# Load our tags\n",
    "TAGS = pd.read_csv(\"TAGS.csv\")"
   ]
  },
  {
   "cell_type": "code",
   "execution_count": null,
   "id": "77c6cd48-25d8-436f-88e3-8c2004cd3faa",
   "metadata": {},
   "outputs": [],
   "source": [
    "TAGS"
   ]
  },
  {
   "cell_type": "code",
   "execution_count": null,
   "id": "b46e7ce0-bb92-4d98-adf2-1a1c45af9049",
   "metadata": {},
   "outputs": [],
   "source": [
    "TAGS['tags'].unique()"
   ]
  },
  {
   "cell_type": "code",
   "execution_count": null,
   "id": "d8188137-035e-43ba-8b73-9103352f80db",
   "metadata": {},
   "outputs": [],
   "source": [
    "tag_sets = TAGS.groupby(\"problem\")[\"tags\"].apply(set)\n",
    "distinct_tag_sets = pd.Series(tag_sets.map(tuple).unique())\n",
    "distinct_tag_sets"
   ]
  },
  {
   "cell_type": "code",
   "execution_count": null,
   "id": "9c130626-5681-46f6-9aea-59cb77f1721c",
   "metadata": {},
   "outputs": [],
   "source": [
    "def set_size(width, fraction=1):\n",
    "    \"\"\"Set figure dimensions to avoid scaling in LaTeX.\n",
    "\n",
    "    Parameters\n",
    "    ----------\n",
    "    width: float\n",
    "            Document textwidth or columnwidth in pts\n",
    "    fraction: float, optional\n",
    "            Fraction of the width which you wish the figure to occupy\n",
    "\n",
    "    Returns\n",
    "    -------\n",
    "    fig_dim: tuple\n",
    "            Dimensions of figure in inches\n",
    "    \"\"\"\n",
    "    # Width of figure (in pts)\n",
    "    fig_width_pt = width * fraction\n",
    "\n",
    "    # Convert from pt to inches\n",
    "    inches_per_pt = 1 / 72.27\n",
    "\n",
    "    # Golden ratio to set aesthetic figure height\n",
    "    # https://disq.us/p/2940ij3\n",
    "    golden_ratio = (5**.5 - 1) / 2\n",
    "\n",
    "    # Figure width in inches\n",
    "    fig_width_in = fig_width_pt * inches_per_pt\n",
    "    # Figure height in inches\n",
    "    fig_height_in = fig_width_in * golden_ratio\n",
    "\n",
    "    fig_dim = (fig_width_in, fig_height_in)\n",
    "\n",
    "    return fig_dim"
   ]
  },
  {
   "cell_type": "code",
   "execution_count": null,
   "id": "a6d5e1fe-14e2-4517-a09e-7fb15b6092aa",
   "metadata": {},
   "outputs": [],
   "source": [
    "width = 400"
   ]
  },
  {
   "cell_type": "code",
   "execution_count": null,
   "id": "a26c7d18-b858-4840-9774-a01f0f371f01",
   "metadata": {},
   "outputs": [],
   "source": [
    "# Filter rows where status is \"Success\"\n",
    "solved_df = DF[DF['status'] == 'Success']\n",
    "solved_df = solved_df[solved_df[\"sanity_sat\"].isin([\"sat\", \"unsat\"])]  # Only accept sat or unsat as answer, some solvers might answer \"unknown\" or some error"
   ]
  },
  {
   "cell_type": "code",
   "execution_count": null,
   "id": "d0580d57-5860-484d-890d-66c95b5a5e90",
   "metadata": {},
   "outputs": [],
   "source": [
    "## Total time \n",
    "%matplotlib\n",
    "_ = visualizer.sum_time_barchart(solved_df)"
   ]
  },
  {
   "cell_type": "code",
   "execution_count": null,
   "id": "ce6074a7-11f0-47dd-a0f5-be991cf13f9e",
   "metadata": {},
   "outputs": [],
   "source": [
    "## Total solved\n",
    "%matplotlib\n",
    "fig = visualizer.solved_barchart(DF, set_size(width))\n",
    "fig.savefig(\"assets/total_solved_barchart.pdf\", format=\"pdf\", bbox_inches=\"tight\")"
   ]
  },
  {
   "cell_type": "code",
   "execution_count": null,
   "id": "6d752d2b-fca8-4877-920d-b2848d51375a",
   "metadata": {},
   "outputs": [],
   "source": [
    " print(visualizer.summary_table(DF).to_latex())"
   ]
  },
  {
   "cell_type": "code",
   "execution_count": null,
   "id": "9c5c6636-6253-4d1b-ab32-988b2601f39c",
   "metadata": {},
   "outputs": [],
   "source": [
    "visualizer.summary_table(tag_util.find_exact_tagset(DF, TAGS, set([\"length_constraints\", \"substrings\", \"regular_constraints\"])))"
   ]
  },
  {
   "cell_type": "code",
   "execution_count": null,
   "id": "3db2e260-8b4f-4f02-a4e8-90d2018770f9",
   "metadata": {},
   "outputs": [],
   "source": [
    "%matplotlib\n",
    "tagset = set([\"regular_constraints\"])\n",
    "d = tag_util.find_exact_tagset(DF, TAGS, tagset)\n",
    "fig = visualizer.solved_barchart(d, set_size(width))\n",
    "fig.savefig(f\"assets/{\"_\".join(tagset)}_solved_barchart.pdf\", format=\"pdf\", bbox_inches=\"tight\")"
   ]
  },
  {
   "cell_type": "code",
   "execution_count": null,
   "id": "86c5aa16-f36a-4f5c-b6a4-257a1d61a35d",
   "metadata": {},
   "outputs": [],
   "source": [
    "%matplotlib\n",
    "tagset = set([\"length_constraints\", \"regular_constraints\", \"substrings\"])\n",
    "d = tag_util.find_exact_tagset(DF, TAGS, tagset)\n",
    "fig = visualizer.solved_barchart(d, set_size(width))\n",
    "fig.savefig(f\"assets/{\"_\".join(tagset)}_solved_barchart.pdf\", format=\"pdf\", bbox_inches=\"tight\")"
   ]
  },
  {
   "cell_type": "code",
   "execution_count": null,
   "id": "f6b2dacb-4d41-4e99-87fd-ac03f566cbaa",
   "metadata": {},
   "outputs": [],
   "source": [
    "%matplotlib\n",
    "tagset = set([\"lia\", \"length_constraints\", \"search\", \"substrings\"])\n",
    "d = tag_util.find_exact_tagset(DF, TAGS, tagset)\n",
    "fig = visualizer.solved_barchart(d, set_size(width))\n",
    "fig.savefig(f\"assets/{\"_\".join(tagset)}_solved_barchart.pdf\", format=\"pdf\", bbox_inches=\"tight\")"
   ]
  },
  {
   "cell_type": "code",
   "execution_count": null,
   "id": "fdff6808-65be-4f52-a879-028456ac1ef4",
   "metadata": {},
   "outputs": [],
   "source": [
    "%matplotlib\n",
    "tagset = set([\"re_replace\", \"length_constraints\", \"regular_constraints\"])\n",
    "d = tag_util.find_exact_tagset(DF, TAGS, tagset)\n",
    "fig = visualizer.solved_barchart(d, set_size(width))\n",
    "fig.savefig(f\"assets/{\"_\".join(tagset)}_solved_barchart.pdf\", format=\"pdf\", bbox_inches=\"tight\")"
   ]
  },
  {
   "cell_type": "code",
   "execution_count": null,
   "id": "2e7f5063-7282-469d-b0e7-6a20b58fc292",
   "metadata": {},
   "outputs": [],
   "source": [
    "%matplotlib\n",
    "for tagset in distinct_tag_sets:\n",
    "    df = tag_util.find_exact_tagset(DF, TAGS, set(tagset))\n",
    "    if df.size > 0:\n",
    "        fig = visualizer.sum_time_barchart(df)\n",
    "        fig.suptitle(f'Tagset: {\", \".join(tagset)}', fontsize=10, y=0.92, color='gray')\n",
    "        "
   ]
  },
  {
   "cell_type": "code",
   "execution_count": null,
   "id": "78cb262d-cba0-470b-b64b-cc0be36ca0e5",
   "metadata": {},
   "outputs": [],
   "source": [
    "%matplotlib inline\n",
    "for tagset in distinct_tag_sets:\n",
    "    df = tag_util.find_exact_tagset(DF, TAGS, set(tagset))\n",
    "    \n",
    "    if df.size > 0:\n",
    "        fig = visualizer.solved_barchart(df)\n",
    "        fig.suptitle(f'Tagset: {\", \".join(tagset)}', fontsize=10, y=0.92, color='gray')"
   ]
  },
  {
   "cell_type": "code",
   "execution_count": null,
   "id": "eb836720-e275-48d1-b469-f61847e3e438",
   "metadata": {},
   "outputs": [],
   "source": [
    "import math\n",
    "# Determine grid size based on the number of tagsets\n",
    "num_tagsets = len(distinct_tag_sets)\n",
    "cols = 3  # Number of columns (adjust as needed)\n",
    "rows = math.ceil(num_tagsets / cols)  # Calculate the required number of rows\n",
    "\n",
    "# Create a figure with subplots\n",
    "fig, axes = plt.subplots(rows, cols, figsize=(5 * cols, 4 * rows))\n",
    "axes = axes.flatten()  # Flatten in case of multiple rows and columns\n",
    "\n",
    "for idx, tagset in enumerate(distinct_tag_sets):\n",
    "    df = tag_util.find_exact_tagset(DF, TAGS, set(tagset))\n",
    "    \n",
    "    if df.size > 0:\n",
    "        ax = axes[idx]\n",
    "        visualizer.solved_barchart(df, ax=ax)  # Pass the subplot axis\n",
    "        ax.set_title(f'Tagset: {\", \".join(tagset)}', fontsize=10, color='gray')\n",
    "        ax.legend(loc='lower left', bbox_to_anchor=(0, 0))\n",
    "    else:\n",
    "        axes[idx].axis('off')  # Hide unused subplot if no data\n",
    "\n",
    "# Hide any remaining empty subplots\n",
    "for j in range(idx + 1, len(axes)):\n",
    "    axes[j].axis('off')\n",
    "\n",
    "# Adjust layout for better spacing\n",
    "plt.tight_layout()\n",
    "\n",
    "plt.savefig('assets/combined_solved_barcharts.pdf', format=\"pdf\")"
   ]
  },
  {
   "cell_type": "code",
   "execution_count": null,
   "id": "ebac7340-edcd-4496-bc2d-54e4f784a6bb",
   "metadata": {},
   "outputs": [],
   "source": [
    "solved_problems = DF[DF['sanity_sat'].isin(['sat', 'unsat'])]['problem'].unique()\n",
    "unsolved_problems = DF[~DF['problem'].isin(solved_problems)]['problem'].unique().tolist()"
   ]
  },
  {
   "cell_type": "code",
   "execution_count": null,
   "id": "af220d2e-b672-4f14-b4c6-ad422ae079d9",
   "metadata": {},
   "outputs": [],
   "source": [
    "len(unsolved_problems)"
   ]
  },
  {
   "cell_type": "code",
   "execution_count": null,
   "id": "c91fd554-98c6-4d95-98ac-2e5b592da05b",
   "metadata": {},
   "outputs": [],
   "source": [
    "unsolved_tags = TAGS[TAGS['problem'].isin(unsolved_problems)]\n",
    "\n",
    "# Group by 'problem' and aggregate tags into sets\n",
    "unsolved_tagsets = unsolved_tags.groupby('problem')['tags'].apply(set).reset_index()\n",
    "\n",
    "# If you prefer a dictionary with problem as key and tagset as value:\n",
    "unsolved_tagsets_dict = unsolved_tagsets.set_index('problem')['tags'].to_dict()"
   ]
  },
  {
   "cell_type": "code",
   "execution_count": null,
   "id": "06d7d392-8ecb-402a-af2d-63c8a2d9d7b2",
   "metadata": {},
   "outputs": [],
   "source": [
    "pd.set_option(\"display.max_rows\", None)\n",
    "pd.set_option('display.width', None)\n",
    "pd.set_option('display.max_columns', None)\n",
    "unsolved_tagsets"
   ]
  },
  {
   "cell_type": "code",
   "execution_count": null,
   "id": "6baee3ed-b55a-4cb4-8278-54972ed8596c",
   "metadata": {},
   "outputs": [],
   "source": [
    "unsolved_tagsets['tagset'] = unsolved_tagsets['tags'].apply(frozenset)\n",
    "\n",
    "# Now group by the tagset and count the number of problems\n",
    "tagset_counts = unsolved_tagsets.groupby('tagset')['problem'].count().reset_index(name='count')\n"
   ]
  },
  {
   "cell_type": "code",
   "execution_count": null,
   "id": "d20367af-144e-4ec3-aa07-c5bf7f464f6d",
   "metadata": {},
   "outputs": [],
   "source": [
    "tagset_counts"
   ]
  },
  {
   "cell_type": "code",
   "execution_count": null,
   "id": "2a326644-7a96-4070-b375-fd5a25ea226f",
   "metadata": {},
   "outputs": [],
   "source": [
    "print(tagset_counts.to_latex())"
   ]
  },
  {
   "cell_type": "code",
   "execution_count": null,
   "id": "4b9177b2-835e-4015-be80-9ae9828565de",
   "metadata": {},
   "outputs": [],
   "source": [
    "mask = DF.groupby(\"problem\")[\"sanity_sat\"].transform(lambda x: all(v in {\"sat\", \"unsat\"} for v in x))\n",
    "filtered_df = DF[~mask]\n",
    "filtered_df = filtered_df[filtered_df[\"sanity_sat\"].isin([\"sat\", \"unsat\"])]  # Only accept sat or unsat"
   ]
  },
  {
   "cell_type": "code",
   "execution_count": null,
   "id": "bc0aeb9c-0007-4f64-8887-56f049fb8022",
   "metadata": {},
   "outputs": [],
   "source": [
    "# Group by 'solver' and 'sanity_sat' and count the number of successes\n",
    "sanity_counts = filtered_df.groupby(['solver', 'sanity_sat']).size().unstack(fill_value=0)\n",
    "\n",
    "# Sort by total solved count (sum of 'sat' and 'unsat')\n",
    "sanity_counts = sanity_counts.loc[sanity_counts.sum(axis=1).sort_values(ascending=False).index]\n",
    "\n",
    "fig, ax = plt.subplots(figsize=set_size(width))\n",
    "\n",
    "\n",
    "color_map = {'sat': 'green', 'unsat': 'orange'}\n",
    "colors = [color_map.get(col, 'blue') for col in sanity_counts.columns]\n",
    "\n",
    "# Plot the stacked bar chart with the sorted order\n",
    "sanity_counts.plot(kind='bar', stacked=True, ax=ax, color=colors)\n",
    "\n",
    "# Customize the plot\n",
    "ax.set_xlabel('Solver')\n",
    "ax.set_ylabel('Number of Problems Solved')\n",
    "\n",
    "fig.savefig(f\"assets/non_trivial_solved_barchart.pdf\", format=\"pdf\", bbox_inches=\"tight\")"
   ]
  },
  {
   "cell_type": "code",
   "execution_count": null,
   "id": "251f99e6-dfb7-4d53-bcdc-cbaaa8dd4ce1",
   "metadata": {},
   "outputs": [],
   "source": []
  }
 ],
 "metadata": {
  "kernelspec": {
   "display_name": "Python 3 (ipykernel)",
   "language": "python",
   "name": "python3"
  },
  "language_info": {
   "codemirror_mode": {
    "name": "ipython",
    "version": 3
   },
   "file_extension": ".py",
   "mimetype": "text/x-python",
   "name": "python",
   "nbconvert_exporter": "python",
   "pygments_lexer": "ipython3",
   "version": "3.13.2"
  }
 },
 "nbformat": 4,
 "nbformat_minor": 5
}
