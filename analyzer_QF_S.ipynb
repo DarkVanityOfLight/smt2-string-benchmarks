{
 "cells": [
  {
   "cell_type": "code",
   "execution_count": null,
   "id": "59d08fb5-d863-486e-ba18-fa8f7a2acb72",
   "metadata": {},
   "outputs": [],
   "source": [
    "import matplotlib as mpl\n",
    "import matplotlib.pyplot as plt\n",
    "from matplotlib.colors import ListedColormap, BoundaryNorm, LogNorm, LinearSegmentedColormap, Normalize\n",
    "\n",
    "import pandas as pd\n",
    "import numpy as np\n",
    "import seaborn as sns\n",
    "import os"
   ]
  },
  {
   "cell_type": "code",
   "execution_count": null,
   "id": "a267fbe8-1cb4-48b7-b885-394e2927944c",
   "metadata": {},
   "outputs": [],
   "source": [
    "import visualizer"
   ]
  },
  {
   "cell_type": "code",
   "execution_count": null,
   "id": "a1f0148f-0797-4c79-9932-64df925d04ac",
   "metadata": {},
   "outputs": [],
   "source": [
    "df = pd.read_csv(\"QF_S_PARSED.csv\")"
   ]
  },
  {
   "cell_type": "code",
   "execution_count": null,
   "id": "3d309f79-4b22-4dfd-9758-d675c4722ccf",
   "metadata": {},
   "outputs": [],
   "source": [
    "reduced_df = df[[\"solver\", \"problem\", \"status\", \"sanity_sat\", \"task-clock:u\", \"elapsed\"]].copy()"
   ]
  },
  {
   "cell_type": "code",
   "execution_count": null,
   "id": "8f20aca0-a263-4042-b033-a6332f7e0a7c",
   "metadata": {},
   "outputs": [],
   "source": [
    "%matplotlib widget\n",
    "_ = visualizer.full_heatmap(reduced_df)"
   ]
  },
  {
   "cell_type": "code",
   "execution_count": null,
   "id": "51389ee7-a559-4e35-a14a-7c9b8459334a",
   "metadata": {},
   "outputs": [],
   "source": [
    "# Modify 'folder' column using .loc\n",
    "reduced_df.loc[:, 'folder'] = reduced_df['problem'].apply(lambda x: os.path.dirname(x))\n",
    "\n",
    "# Apply the second transformation on 'folder' using .loc\n",
    "reduced_df.loc[:, 'folder'] = reduced_df['problem'].apply(\n",
    "    lambda x: '/'.join(x.split(os.sep)[4:][:-1])  # Remove the first three directories\n",
    ")\n",
    "\n",
    "# Modify 'problem' column using .loc\n",
    "reduced_df.loc[:, 'problem'] = reduced_df['problem'].apply(\n",
    "    lambda x: x.split(\"/\")[-1]\n",
    ")"
   ]
  },
  {
   "cell_type": "code",
   "execution_count": null,
   "id": "da5ad03b-98b9-43a0-8135-88547e6ce6d0",
   "metadata": {},
   "outputs": [],
   "source": [
    "pivot_df = reduced_df.pivot(index=[\"folder\", 'problem'], columns='solver', values='task-clock:u')"
   ]
  },
  {
   "cell_type": "code",
   "execution_count": null,
   "id": "f2af51e7-c7a0-436f-bd75-6173a29c0d75",
   "metadata": {},
   "outputs": [],
   "source": [
    "folders = pivot_df.index.get_level_values('folder')\n",
    "y_labels = np.where(folders.duplicated(keep='first'), \"\", folders)"
   ]
  },
  {
   "cell_type": "code",
   "execution_count": null,
   "id": "94eb47ed-070d-4467-ac15-1b5692205f4e",
   "metadata": {},
   "outputs": [],
   "source": [
    "new_index = []\n",
    "new_pivot_df = []\n",
    "\n",
    "last_folder = None\n",
    "empty_rows_count = 100  # Number of empty rows to add between folders\n",
    "for i, (folder, row) in enumerate(pivot_df.iterrows()):\n",
    "    # Add multiple blank rows between different folders\n",
    "    if folder[0] != last_folder:\n",
    "        for _ in range(empty_rows_count):  # Add 5 blank rows\n",
    "            new_index.append(('', ''))  # Blank row\n",
    "            new_pivot_df.append([np.nan] * len(pivot_df.columns))  # NaN values for blank row\n",
    "    new_index.append(folder)\n",
    "    new_pivot_df.append(row)\n",
    "    last_folder = folder[0]"
   ]
  },
  {
   "cell_type": "code",
   "execution_count": null,
   "id": "1c1023e4-abd9-4b7a-a65f-0fc2403b3c0f",
   "metadata": {},
   "outputs": [],
   "source": [
    "pivot_df_with_blanks = pd.DataFrame(new_pivot_df, index=pd.MultiIndex.from_tuples(new_index, names=pivot_df.index.names), columns=pivot_df.columns)"
   ]
  },
  {
   "cell_type": "code",
   "execution_count": null,
   "id": "60cfe18e-36a4-4abe-9114-e6044a09fbb3",
   "metadata": {},
   "outputs": [],
   "source": [
    "folders = pivot_df.index.get_level_values('folder').unique()"
   ]
  },
  {
   "cell_type": "code",
   "execution_count": null,
   "id": "da1b9c7a-7e48-4665-9a5b-6ce72e268752",
   "metadata": {},
   "outputs": [],
   "source": [
    "%matplotlib widget\n",
    "\n",
    "# Define the bad color for NaN values\n",
    "bad_color = 'purple'  # You can change this to any color you'd like\n",
    "\n",
    "# Create a subplot grid with enough rows for each folder\n",
    "n_folders = len(folders)\n",
    "fig, axes = plt.subplots(n_folders, 1, figsize=(12, 8 * n_folders))\n",
    "\n",
    "# If there's only one folder, `axes` will not be an array, so we need to ensure it's iterable\n",
    "if n_folders == 1:\n",
    "    axes = [axes]\n",
    "\n",
    "cmap = sns.color_palette(\"crest\", as_cmap=True) # You can use any colormap you like\n",
    "cmap.set_bad(bad_color)  # Set the \"bad\" color for NaN values\n",
    "\n",
    "# Loop through each folder and plot its respective data in the corresponding subplot\n",
    "for i, folder in enumerate(folders):\n",
    "    # Filter the pivot table for the current folder\n",
    "    folder_data = pivot_df.xs(folder, level='folder')\n",
    "\n",
    "    # Create a mask for NaN values (or any other condition)\n",
    "    mask = folder_data.isna()  # Mask NaN values\n",
    "\n",
    "    # Plot the heatmap for the current folder\n",
    "    sns.heatmap(\n",
    "        folder_data,\n",
    "        ax=axes[i],\n",
    "        fmt=\".2f\",\n",
    "        cbar_kws={'label': 'task-clock:u'},\n",
    "        norm=LogNorm(),\n",
    "        mask=mask,  # Apply the mask to NaN values\n",
    "        cmap=cmap,  # Use the custom colormap with bad color\n",
    "        cbar=False,  # Disable colorbar to avoid redundancy if it's not needed\n",
    "    )\n",
    "\n",
    "    # Set the title and labels for each subplot\n",
    "    axes[i].set_title(f'Task Clock Time for Folder: {folder}')\n",
    "    axes[i].set_xlabel('Solver')\n",
    "    axes[i].set_ylabel('Problem')\n",
    "\n",
    "    # Adding the colorbar to the first plot\n",
    "    plt.colorbar(axes[i].get_children()[0], ax=axes[i], label=\"task-clock:u\")\n",
    "\n",
    "# Adjust layout\n",
    "plt.tight_layout()"
   ]
  },
  {
   "cell_type": "markdown",
   "id": "50403338-2f97-41bd-84cb-73556e7c3e90",
   "metadata": {},
   "source": [
    "---\n",
    "\n",
    "## Generall Infos"
   ]
  },
  {
   "cell_type": "code",
   "execution_count": null,
   "id": "6e04a68c-82d1-41eb-bd3d-60e95b266cc8",
   "metadata": {},
   "outputs": [],
   "source": [
    "ostrich = df[df[\"solver\"] == \"ostrich\"]\n",
    "cvc = df[df[\"solver\"] == \"cvc5\"]\n",
    "noodler = df[df[\"solver\"] == \"z3noodler\"]\n",
    "alpha = df[df[\"solver\"] == \"z3alpha\"]"
   ]
  },
  {
   "cell_type": "code",
   "execution_count": null,
   "id": "31d00992-4ee9-4c30-8387-8876428f41e6",
   "metadata": {},
   "outputs": [],
   "source": [
    "success = df[df[\"status\"] == \"Success\"]\n",
    "success[~success[\"sanity_sat\"].isin([\"sat\", \"unsat\"])]"
   ]
  }
 ],
 "metadata": {
  "kernelspec": {
   "display_name": "Python 3 (ipykernel)",
   "language": "python",
   "name": "python3"
  },
  "language_info": {
   "codemirror_mode": {
    "name": "ipython",
    "version": 3
   },
   "file_extension": ".py",
   "mimetype": "text/x-python",
   "name": "python",
   "nbconvert_exporter": "python",
   "pygments_lexer": "ipython3",
   "version": "3.12.7"
  }
 },
 "nbformat": 4,
 "nbformat_minor": 5
}
